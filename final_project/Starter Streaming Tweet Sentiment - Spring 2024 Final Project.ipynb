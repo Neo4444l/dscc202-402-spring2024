{
 "cells": [
  {
   "cell_type": "markdown",
   "metadata": {
    "application/vnd.databricks.v1+cell": {
     "cellMetadata": {
      "byteLimit": 2048000,
      "rowLimit": 10000
     },
     "inputWidgets": {},
     "nuid": "fc749083-2211-485c-943f-640e198b2c70",
     "showTitle": false,
     "title": ""
    }
   },
   "source": [
    "## DSCC202-402 Data Science at Scale Final Project\n",
    "### Tracking Tweet sentiment at scale using a pretrained transformer (classifier)\n",
    "<p>Consider the following illustration of the end to end system that you will be building.  Each student should do their own work.  The project will demonstrate your understanding of Spark Streaming, the medalion data architecture using Delta Lake, Spark Inference at Scale using an MLflow packaged model as well as Exploritory Data Analysis and System Tracking and Monitoring.</p>\n",
    "<br><br>\n",
    "<img src=\"https://data-science-at-scale.s3.amazonaws.com/images/pipeline.drawio.png\">\n",
    "\n",
    "<p>\n",
    "You will be pulling an updated copy of the course GitHub repositiory: <a href=\"https://github.com/lpalum/dscc202-402-spring2024\">The Repo</a>.  If you are unclear on how to pull an updated copy using the GitHub command line, the following <a href=\"https://techwritingmatters.com/how-to-update-your-forked-repository-on-github\">document</a> is helpful.  Be sure to add the professors and TAs as collaborators on your project. \n",
    "\n",
    "- lpalum@gmail.com GitHub ID: lpalum\n",
    "- ajay.anand@rochester.edu GitHub ID: ajayan12\n",
    "- divyamunot1999@gmail.com GitHub ID: divyamunot\n",
    "- ylong6@u.Rochester.edu GitHub ID: NinaLong2077\n",
    "\n",
    "Once you have updates your fork of the repository you should see the following template project that is resident in the final_project directory.\n",
    "</p>\n",
    "\n",
    "<img src=\"https://data-science-at-scale.s3.amazonaws.com/images/notebooks.drawio.png\">\n",
    "\n",
    "<p>\n",
    "You can then pull your project into the Databrick Workspace using the <a href=\"https://www.databricks.training/step-by-step/importing-courseware-from-github/index.html\">Repos</a> feature.\n",
    "Each student is expected to submit the URL of their project on GitHub with their code checked in on the main/master branch.  This illustration highlights the branching scheme that you may use to work on your code in steps and then merge your submission into your master branch before submitting.\n",
    "</p>\n",
    "<img src=\"https://data-science-at-scale.s3.amazonaws.com/images/github.drawio.png\">\n",
    "<p>\n",
    "Work your way through this notebook which will give you the steps required to submit a complete and compliant project.  The following illustration and associated data dictionary specifies the transformations and data that you are to generate for each step in the medallion pipeline.\n",
    "</p>\n",
    "<br><br>\n",
    "<img src=\"https://data-science-at-scale.s3.amazonaws.com/images/dataframes.drawio.png\">\n",
    "\n",
    "#### Bronze Data - raw ingest\n",
    "- date - string in the source json\n",
    "- user - string in the source json\n",
    "- text - tweet string in the source json\n",
    "- sentiment - the given sentiment of the text as determined by an unknown model that is provided in the source json\n",
    "- source_file - the path of the source json file the this row of data was read from\n",
    "- processing_time - a timestamp of when you read this row from the source json\n",
    "\n",
    "#### Silver Data - Bronze Preprocessing\n",
    "- timestamp - convert date string in the bronze data to a timestamp\n",
    "- mention - every @username mentioned in the text string in the bronze data gets a row in this silver data table.\n",
    "- cleaned_text - the bronze text data with the mentions (@username) removed.\n",
    "- sentiment - the given sentiment that was associated with the text in the bronze table.\n",
    "\n",
    "#### Gold Data - Silver Table Inference\n",
    "- timestamp - the timestamp from the silver data table rows\n",
    "- mention - the mention from the silver data table rows\n",
    "- cleaned_text - the cleaned_text from the silver data table rows\n",
    "- sentiment - the given sentiment from the silver data table rows\n",
    "- predicted_score - score out of 100 from the Hugging Face Sentiment Transformer\n",
    "- predicted_sentiment - string representation of the sentiment\n",
    "- sentiment_id - 0 for negative and 1 for postive associated with the given sentiment\n",
    "- predicted_sentiment_id - 0 for negative and 1 for positive assocaited with the Hugging Face Sentiment Transformer\n",
    "\n",
    "#### Application Data - Gold Table Aggregation\n",
    "- min_timestamp - the oldest timestamp on a given mention (@username)\n",
    "- max_timestamp - the newest timestamp on a given mention (@username)\n",
    "- mention - the user (@username) that this row pertains to.\n",
    "- negative - total negative tweets directed at this mention (@username)\n",
    "- neutral - total neutral tweets directed at this mention (@username)\n",
    "- positive - total positive tweets directed at this mention (@username)\n",
    "\n",
    "When you are designing your approach, one of the main decisions that you will need to make is how you are going to orchestrate the streaming data processing in your pipeline.  There are several valid approaches.  First, you may choose to start the bronze_stream and let it complete (read and append all of the source data) before preceeding and starting up the silver_stream.  This approach has latency associated with it but it will allow your code to proceed in a linear fashion and process all the data by the end of your notebook execution.  Another potential approach is to start all the streams and have a \"watch\" method to determine when the pipeline has processed sufficient or all of the source data before stopping and displaying results.  Both of these approaches are valid and have different implications on how you will trigger your steams and how you will gate the execution of your pipeline.  Think through how you want to proceed and ask questions if you need guidance. The following references may be helpful:\n",
    "- [Spark Structured Streaming Programming Guide](https://spark.apache.org/docs/latest/structured-streaming-programming-guide.html)\n",
    "- [Databricks Autoloader - Cloudfiles](https://docs.databricks.com/en/ingestion/auto-loader/index.html)\n",
    "\n",
    "### Be sure that your project runs end to end when *Run all* is executued on this notebook! (15 Points out of 60)"
   ]
  },
  {
   "cell_type": "code",
   "execution_count": 0,
   "metadata": {
    "application/vnd.databricks.v1+cell": {
     "cellMetadata": {
      "byteLimit": 2048000,
      "rowLimit": 10000
     },
     "inputWidgets": {},
     "nuid": "068f25d0-1387-4342-89cf-ce82a8d614ce",
     "showTitle": true,
     "title": "Pull in the Includes & Utiltites"
    }
   },
   "outputs": [
    {
     "output_type": "stream",
     "name": "stdout",
     "output_type": "stream",
     "text": [
      "\u001B[31mERROR: pip's dependency resolver does not currently take into account all the packages that are installed. This behaviour is the source of the following dependency conflicts.\r\npetastorm 0.11.4 requires pyspark>=2.1.0, which is not installed.\u001B[0m\r\n"
     ]
    },
    {
     "output_type": "display_data",
     "data": {
      "application/vnd.databricks.v1+bamboolib_hint": "{\"pd.DataFrames\": [], \"version\": \"0.0.1\"}",
      "text/plain": []
     },
     "metadata": {},
     "output_type": "display_data"
    },
    {
     "output_type": "display_data",
     "data": {
      "text/html": [
       "\n",
       "<H2>VERY IMPORTANT TO UNDERSTAND THE USE OF THESE VARIABLES!<br> Please ask if you are confused about their use.</H2>\n",
       "<table border=1>\n",
       "<tr><td><b>Variable Name</b></td><td><b>Value</b></td><td><b>Description</b></td></tr>\n",
       "<tr><td>TWEET_BUCKET_NAME</td><td>voc-75-databricks-data</td><td>AWS S3 Bucket Name where the tweets are coming into your system.</td></tr>\n",
       "<tr><td>TWEET_BUCKET_URL</td><td>https://voc-75-databricks-data.s3.amazonaws.com/</td><td>AWS S3 Bucket URL where the tweets are coming into your system.</td></tr>\n",
       "<tr><td>TWEET_SOURCE_PATH</td><td>s3a://voc-75-databricks-data/voc_volume/</td><td>AWS S3 Path where the tweets are coming into your system.</td></tr>\n",
       "<tr><td>USER_DIR</td><td>/tmp/labuser104917-3032398/</td><td>Path to the local storage (dbfs) for your project.</td></tr>\n",
       "<tr><td>BRONZE_CHECKPOINT</td><td>/tmp/labuser104917-3032398/bronze.checkpoint</td><td>Store your Bronze Checkpoint data here.</td></tr>\n",
       "<tr><td>BRONZE_DELTA</td><td>/tmp/labuser104917-3032398/bronze.delta</td><td>Store your Bronze Delta Table here.</td></tr>\n",
       "<tr><td>SILVER_CHECKPOINT</td><td>/tmp/labuser104917-3032398/silver.checkpoint</td><td>Store your Silver Checkpoint data here.</td></tr>\n",
       "<tr><td>SILVER_DELTA</td><td>/tmp/labuser104917-3032398/silver.delta</td><td>Store your Silver Delta Table here.</td></tr>\n",
       "<tr><td>GOLD_CHECKPOINT</td><td>/tmp/labuser104917-3032398/gold.checkpoint</td><td>Store your Gold Checkpoint data here.</td></tr>\n",
       "<tr><td>GOLD_DELTA</td><td>/tmp/labuser104917-3032398/gold.delta</td><td>Store your Gold Delta Table here.</td></tr>\n",
       "<tr><td>MODEL_NAME</td><td>HF_TWEET_SENTIMENT</td><td>Load this production model</td></tr>\n",
       "<tr><td>HF_MODEL_NAME</td><td>finiteautomata/bertweet-base-sentiment-analysis</td><td>The Hugging Face Model for Tweet sentiment classification: https://huggingface.co/finiteautomata/bertweet-base-sentiment-analysis </td></tr>\n",
       "</table>\n"
      ]
     },
     "metadata": {
      "application/vnd.databricks.v1+output": {
       "addedWidgets": {},
       "arguments": {},
       "data": "\n<H2>VERY IMPORTANT TO UNDERSTAND THE USE OF THESE VARIABLES!<br> Please ask if you are confused about their use.</H2>\n<table border=1>\n<tr><td><b>Variable Name</b></td><td><b>Value</b></td><td><b>Description</b></td></tr>\n<tr><td>TWEET_BUCKET_NAME</td><td>voc-75-databricks-data</td><td>AWS S3 Bucket Name where the tweets are coming into your system.</td></tr>\n<tr><td>TWEET_BUCKET_URL</td><td>https://voc-75-databricks-data.s3.amazonaws.com/</td><td>AWS S3 Bucket URL where the tweets are coming into your system.</td></tr>\n<tr><td>TWEET_SOURCE_PATH</td><td>s3a://voc-75-databricks-data/voc_volume/</td><td>AWS S3 Path where the tweets are coming into your system.</td></tr>\n<tr><td>USER_DIR</td><td>/tmp/labuser104917-3032398/</td><td>Path to the local storage (dbfs) for your project.</td></tr>\n<tr><td>BRONZE_CHECKPOINT</td><td>/tmp/labuser104917-3032398/bronze.checkpoint</td><td>Store your Bronze Checkpoint data here.</td></tr>\n<tr><td>BRONZE_DELTA</td><td>/tmp/labuser104917-3032398/bronze.delta</td><td>Store your Bronze Delta Table here.</td></tr>\n<tr><td>SILVER_CHECKPOINT</td><td>/tmp/labuser104917-3032398/silver.checkpoint</td><td>Store your Silver Checkpoint data here.</td></tr>\n<tr><td>SILVER_DELTA</td><td>/tmp/labuser104917-3032398/silver.delta</td><td>Store your Silver Delta Table here.</td></tr>\n<tr><td>GOLD_CHECKPOINT</td><td>/tmp/labuser104917-3032398/gold.checkpoint</td><td>Store your Gold Checkpoint data here.</td></tr>\n<tr><td>GOLD_DELTA</td><td>/tmp/labuser104917-3032398/gold.delta</td><td>Store your Gold Delta Table here.</td></tr>\n<tr><td>MODEL_NAME</td><td>HF_TWEET_SENTIMENT</td><td>Load this production model</td></tr>\n<tr><td>HF_MODEL_NAME</td><td>finiteautomata/bertweet-base-sentiment-analysis</td><td>The Hugging Face Model for Tweet sentiment classification: https://huggingface.co/finiteautomata/bertweet-base-sentiment-analysis </td></tr>\n</table>\n",
       "datasetInfos": [],
       "metadata": {},
       "removedWidgets": [],
       "textData": null,
       "type": "htmlSandbox"
      }
     },
     "output_type": "display_data"
    },
    {
     "output_type": "stream",
     "name": "stdout",
     "output_type": "stream",
     "text": [
      "the includes are included\n"
     ]
    }
   ],
   "source": [
    "%run ./includes/includes"
   ]
  },
  {
   "cell_type": "code",
   "execution_count": 0,
   "metadata": {
    "application/vnd.databricks.v1+cell": {
     "cellMetadata": {
      "byteLimit": 2048000,
      "rowLimit": 10000
     },
     "inputWidgets": {},
     "nuid": "6512bf1b-50e0-4a4b-84a9-e280a6260b56",
     "showTitle": true,
     "title": "Notebook Control Widgets (maybe helpful)"
    }
   },
   "outputs": [],
   "source": [
    "\"\"\"\n",
    "Adding a widget to the notebook to control the clearing of a previous run.\n",
    "or stopping the active streams using routines defined in the utilities notebook\n",
    "\"\"\"\n",
    "dbutils.widgets.removeAll()\n",
    "\n",
    "dbutils.widgets.dropdown(\"clear_previous_run\", \"No\", [\"No\",\"Yes\"])\n",
    "if (getArgument(\"clear_previous_run\") == \"Yes\"):\n",
    "    clear_previous_run()\n",
    "    print(\"Cleared all previous data.\")\n",
    "\n",
    "dbutils.widgets.dropdown(\"stop_streams\", \"No\", [\"No\",\"Yes\"])\n",
    "if (getArgument(\"stop_streams\") == \"Yes\"):\n",
    "    stop_all_streams()\n",
    "    print(\"Stopped all active streams.\")\n",
    "\n",
    "# Add widget to control the Step 8 plotting loop\n",
    "dbutils.widgets.dropdown(\"update_plots\", \"Yes\", [\"Yes\", \"No\"], \"Update Plots\")\n",
    "\n",
    "from delta import *\n",
    "dbutils.widgets.dropdown(\"optimize_tables\", \"No\", [\"No\",\"Yes\"])\n",
    "if (getArgument(\"optimize_tables\") == \"Yes\"):\n",
    "    # Suck up those small files that we have been appending.\n",
    "    DeltaTable.forPath(spark, BRONZE_DELTA).optimize().executeCompaction()\n",
    "    # Suck up those small files that we have been appending.\n",
    "    DeltaTable.forPath(spark, SILVER_DELTA).optimize().executeCompaction()\n",
    "    # Suck up those small files that we have been appending.\n",
    "    DeltaTable.forPath(spark, GOLD_DELTA).optimize().executeCompaction()\n",
    "    print(\"Optimized all of the Delta Tables\")"
   ]
  },
  {
   "cell_type": "markdown",
   "metadata": {
    "application/vnd.databricks.v1+cell": {
     "cellMetadata": {
      "byteLimit": 2048000,
      "rowLimit": 10000
     },
     "inputWidgets": {},
     "nuid": "e8ce7c13-7f8f-4e11-b50c-fdaebbcf3f99",
     "showTitle": false,
     "title": ""
    }
   },
   "source": [
    "## 1.0 Import your libraries here...\n",
    "- Are your shuffle partitions consistent with your cluster and your workload?\n",
    "- Do you have the necessary libraries to perform the required operations in the pipeline/application?"
   ]
  },
  {
   "cell_type": "code",
   "execution_count": 0,
   "metadata": {
    "application/vnd.databricks.v1+cell": {
     "cellMetadata": {
      "byteLimit": 2048000,
      "rowLimit": 10000
     },
     "inputWidgets": {},
     "nuid": "67bafbb7-d34e-4e86-b159-b2e062faa1d0",
     "showTitle": false,
     "title": ""
    }
   },
   "outputs": [
    {
     "output_type": "stream",
     "name": "stdout",
     "output_type": "stream",
     "text": [
      "/local_disk0/.ephemeral_nfs/envs/pythonEnv-c725c3de-cfe7-4995-ac19-2bbf9b27ac70/lib/python3.9/site-packages/huggingface_hub/file_download.py:1132: FutureWarning: `resume_download` is deprecated and will be removed in version 1.0.0. Downloads always resume when possible. If you want to force a new download, use `force_download=True`.\n  warnings.warn(\n"
     ]
    },
    {
     "output_type": "display_data",
     "data": {
      "application/vnd.jupyter.widget-view+json": {
       "model_id": "d945a272f5024628a12019c571472d96",
       "version_major": 2,
       "version_minor": 0
      },
      "text/plain": [
       "config.json:   0%|          | 0.00/949 [00:00<?, ?B/s]"
      ]
     },
     "metadata": {},
     "output_type": "display_data"
    },
    {
     "output_type": "display_data",
     "data": {
      "application/vnd.jupyter.widget-view+json": {
       "model_id": "158b2dd064d848bfafad8d9285357ab4",
       "version_major": 2,
       "version_minor": 0
      },
      "text/plain": [
       "pytorch_model.bin:   0%|          | 0.00/540M [00:00<?, ?B/s]"
      ]
     },
     "metadata": {},
     "output_type": "display_data"
    },
    {
     "output_type": "display_data",
     "data": {
      "application/vnd.jupyter.widget-view+json": {
       "model_id": "804cf8116a034f328578b702487c1fc9",
       "version_major": 2,
       "version_minor": 0
      },
      "text/plain": [
       "tokenizer_config.json:   0%|          | 0.00/338 [00:00<?, ?B/s]"
      ]
     },
     "metadata": {},
     "output_type": "display_data"
    },
    {
     "output_type": "display_data",
     "data": {
      "application/vnd.jupyter.widget-view+json": {
       "model_id": "6cdd060b593747ffbfe293085e42ab83",
       "version_major": 2,
       "version_minor": 0
      },
      "text/plain": [
       "vocab.txt:   0%|          | 0.00/843k [00:00<?, ?B/s]"
      ]
     },
     "metadata": {},
     "output_type": "display_data"
    },
    {
     "output_type": "display_data",
     "data": {
      "application/vnd.jupyter.widget-view+json": {
       "model_id": "5770bfc0540644c1b759c77c3762e496",
       "version_major": 2,
       "version_minor": 0
      },
      "text/plain": [
       "bpe.codes:   0%|          | 0.00/1.08M [00:00<?, ?B/s]"
      ]
     },
     "metadata": {},
     "output_type": "display_data"
    },
    {
     "output_type": "display_data",
     "data": {
      "application/vnd.jupyter.widget-view+json": {
       "model_id": "1905fdac0d6141549b73ef5a19d642d6",
       "version_major": 2,
       "version_minor": 0
      },
      "text/plain": [
       "added_tokens.json:   0%|          | 0.00/22.0 [00:00<?, ?B/s]"
      ]
     },
     "metadata": {},
     "output_type": "display_data"
    },
    {
     "output_type": "display_data",
     "data": {
      "application/vnd.jupyter.widget-view+json": {
       "model_id": "032e9314317c4268ac548a5cdf957ec5",
       "version_major": 2,
       "version_minor": 0
      },
      "text/plain": [
       "special_tokens_map.json:   0%|          | 0.00/167 [00:00<?, ?B/s]"
      ]
     },
     "metadata": {},
     "output_type": "display_data"
    },
    {
     "output_type": "stream",
     "name": "stdout",
     "output_type": "stream",
     "text": [
      "Libraries and Spark session configured.\n"
     ]
    }
   ],
   "source": [
    "# ENTER YOUR CODE HERE\n",
    "from pyspark.sql import SparkSession\n",
    "from pyspark.conf import SparkConf\n",
    "from pyspark.sql.functions import col, lit, when, udf, isnan, count, desc,input_file_name, current_timestamp, explode, regexp_replace, to_timestamp, expr\n",
    "from pyspark.sql.types import IntegerType, StringType, DoubleType, StructType, StructField, StringType, TimestampType\n",
    "from pyspark.sql.session import SparkSession\n",
    "from pyspark.ml.evaluation import MulticlassClassificationEvaluator\n",
    "from transformers import pipeline, AutoModelForSequenceClassification, AutoTokenizer\n",
    "from sklearn.metrics import confusion_matrix, classification_report\n",
    "from IPython.display import clear_output\n",
    "import pyspark.sql.functions as F\n",
    "import matplotlib.pyplot as plt\n",
    "import seaborn as sns\n",
    "import time\n",
    "import boto3, botocore\n",
    "import pandas as pd\n",
    "import mlflow\n",
    "\n",
    "# Initialize Spark Session\n",
    "spark = SparkSession.builder \\\n",
    "    .appName(\"TweetSentimentAnalysis\") \\\n",
    "    .getOrCreate()\n",
    "\n",
    "# Configuration for Spark to optimize shuffle partitions\n",
    "spark.conf.set(\"spark.sql.shuffle.partitions\", \"200\")\n",
    "\n",
    "# Initialize the Hugging Face pipeline for sentiment analysis\n",
    "sentiment_pipeline = pipeline(\"sentiment-analysis\", model=\"finiteautomata/bertweet-base-sentiment-analysis\")\n",
    "\n",
    "print(\"Libraries and Spark session configured.\")\n"
   ]
  },
  {
   "cell_type": "markdown",
   "metadata": {
    "application/vnd.databricks.v1+cell": {
     "cellMetadata": {
      "byteLimit": 2048000,
      "rowLimit": 10000
     },
     "inputWidgets": {},
     "nuid": "2b7624b4-0aa5-46b7-9767-52f462b2c574",
     "showTitle": false,
     "title": ""
    }
   },
   "source": [
    "## 2.0 Use the utility functions to ...\n",
    "- Read the source file directory listing\n",
    "- Count the source files (how many are there?)\n",
    "- print the contents of one of the files"
   ]
  },
  {
   "cell_type": "code",
   "execution_count": 0,
   "metadata": {
    "application/vnd.databricks.v1+cell": {
     "cellMetadata": {
      "byteLimit": 2048000,
      "rowLimit": 10000
     },
     "inputWidgets": {},
     "nuid": "7331d42d-f84e-42e7-8830-b2028cbe4b4c",
     "showTitle": false,
     "title": ""
    }
   },
   "outputs": [],
   "source": [
    "# Return a data frame with the files in the source directory\n",
    "def get_source_listing_df() -> pd.DataFrame:\n",
    "    # Create a boto3 resource for S3 using anonymous credentials\n",
    "    s3 = boto3.resource('s3', config=boto3.session.Config(signature_version=botocore.UNSIGNED))\n",
    "\n",
    "    # Create a Bucket object\n",
    "    bucket = s3.Bucket(TWEET_BUCKET_NAME)\n",
    "\n",
    "    # List objects in the bucket\n",
    "    objects = [obj.key for obj in bucket.objects.all()]\n",
    "\n",
    "    # Convert the list of objects to a Pandas DataFrame\n",
    "    df = pd.DataFrame(objects, columns=['File Name'])\n",
    "\n",
    "    return df\n",
    "\n",
    "# Show the contents of a file stored in S3\n",
    "def show_s3_file_contents(filename: str) -> str:\n",
    "    # Create a boto3 resource for S3 using anonymous credentials\n",
    "    s3 = boto3.resource('s3', config=boto3.session.Config(signature_version=botocore.UNSIGNED))\n",
    "    # Show the first record\n",
    "    obj = s3.Object(TWEET_BUCKET_NAME, filename)\n",
    "    data=obj.get()['Body'].read()\n",
    "    return(data)\n",
    "\n",
    "# This routine requires the paths defined in the includes notebook\n",
    "# and it clears data from the previous run.\n",
    "def clear_previous_run() -> bool:\n",
    "    # delete previous run \n",
    "    dbutils.fs.rm(BRONZE_CHECKPOINT, True)\n",
    "    dbutils.fs.rm(BRONZE_DELTA, True)\n",
    "    dbutils.fs.rm(SILVER_CHECKPOINT, True)\n",
    "    dbutils.fs.rm(SILVER_DELTA, True)\n",
    "    dbutils.fs.rm(GOLD_CHECKPOINT, True)\n",
    "    dbutils.fs.rm(GOLD_DELTA, True)\n",
    "    return True\n",
    "\n",
    "def stop_all_streams() -> bool:\n",
    "    stopped = False\n",
    "    for stream in spark.streams.active:\n",
    "        stopped = True\n",
    "        stream.stop()\n",
    "    return stopped\n",
    "\n",
    "\n",
    "def stop_named_stream(spark: SparkSession, namedStream: str) -> bool:\n",
    "    stopped = False\n",
    "    for stream in spark.streams.active:\n",
    "        if stream.name == namedStream:\n",
    "            stopped = True \n",
    "            stream.stop()\n",
    "    return stopped\n",
    "\n",
    "def wait_stream_start(spark: SparkSession, namedStream: str) -> bool:\n",
    "    started = False\n",
    "    count = 0\n",
    "    if started == False and count <= 3:\n",
    "        for stream in spark.streams.active:\n",
    "            if stream.name == namedStream:\n",
    "                started = True\n",
    "        count += 1\n",
    "        time.sleep(10)\n",
    "    return started    "
   ]
  },
  {
   "cell_type": "code",
   "execution_count": 0,
   "metadata": {
    "application/vnd.databricks.v1+cell": {
     "cellMetadata": {
      "byteLimit": 2048000,
      "rowLimit": 10000
     },
     "inputWidgets": {},
     "nuid": "a59749d5-e45d-460f-9be1-33652cda2ea5",
     "showTitle": false,
     "title": ""
    }
   },
   "outputs": [
    {
     "output_type": "stream",
     "name": "stdout",
     "output_type": "stream",
     "text": [
      "Directory Listing:\n                    File Name\n0           voc_volume/0.json\n1           voc_volume/1.json\n2          voc_volume/10.json\n3         voc_volume/100.json\n4        voc_volume/1000.json\n...                       ...\n199996  voc_volume/99995.json\n199997  voc_volume/99996.json\n199998  voc_volume/99997.json\n199999  voc_volume/99998.json\n200000  voc_volume/99999.json\n\n[200001 rows x 1 columns]\nNumber of source files: 200001\nContents of the first file:\nb'{\"date\": \"Mon Apr 06 22:19:45 PDT 2009\", \"user\": \"_TheSpecialOne_\", \"text\": \"@switchfoot http://twitpic.com/2y1zl - Awww, that\\'s a bummer.  You shoulda got David Carr of Third Day to do it. ;D\", \"sentiment\": \"negative\"}'\n"
     ]
    }
   ],
   "source": [
    "# ENTER YOUR CODE HERE\n",
    "\n",
    "# Read the source file directory listing\n",
    "source_files_df = get_source_listing_df()\n",
    "print(\"Directory Listing:\")\n",
    "print(source_files_df)\n",
    "\n",
    "# Count the source files\n",
    "file_count = len(source_files_df)\n",
    "print(\"Number of source files:\", file_count)\n",
    "\n",
    "# Print the contents of the first file\n",
    "if file_count > 0:\n",
    "    first_file_name = source_files_df.iloc[0]['File Name']\n",
    "    print(\"Contents of the first file:\")\n",
    "    file_contents = show_s3_file_contents(first_file_name)\n",
    "    print(file_contents)\n",
    "else:\n",
    "    print(\"No files found in the source directory.\")\n"
   ]
  },
  {
   "cell_type": "markdown",
   "metadata": {
    "application/vnd.databricks.v1+cell": {
     "cellMetadata": {
      "byteLimit": 2048000,
      "rowLimit": 10000
     },
     "inputWidgets": {},
     "nuid": "1676aed7-527f-4ea7-9d3b-52544e8c1e37",
     "showTitle": false,
     "title": ""
    }
   },
   "source": [
    "## 3.0 Transform the Raw Data to Bronze Data using a stream\n",
    "- define the schema for the raw data\n",
    "- setup a read stream using cloudfiles and the source data format\n",
    "- setup a write stream using cloudfiles to append to the bronze delta table\n",
    "- enforce schema\n",
    "- allow a new schema to be merged into the bronze delta table\n",
    "- Use the defined BRONZE_CHECKPOINT and BRONZE_DELTA paths defines in the includes\n",
    "- name your raw to bronze stream as bronze_stream\n",
    "- transform the raw data to the bronze data using the data definition at the top of the notebook"
   ]
  },
  {
   "cell_type": "code",
   "execution_count": 0,
   "metadata": {
    "application/vnd.databricks.v1+cell": {
     "cellMetadata": {
      "byteLimit": 2048000,
      "rowLimit": 10000
     },
     "inputWidgets": {},
     "nuid": "c4e37574-9885-4908-bf97-609d140a8818",
     "showTitle": false,
     "title": ""
    }
   },
   "outputs": [],
   "source": [
    "# ENTER YOUR CODE HERE\n",
    "\n",
    "# Define the schema based on the JSON structure\n",
    "schema = StructType([\n",
    "    StructField(\"date\", StringType(), True),\n",
    "    StructField(\"user\", StringType(), True),\n",
    "    StructField(\"text\", StringType(), True),\n",
    "    StructField(\"sentiment\", StringType(), True)\n",
    "])\n",
    "\n",
    "# Setup a Read Stream\n",
    "raw_stream = spark.readStream \\\n",
    "    .format(\"cloudFiles\") \\\n",
    "    .option(\"cloudFiles.format\", \"json\") \\\n",
    "    .schema(schema) \\\n",
    "    .load(TWEET_SOURCE_PATH)\n",
    "\n",
    "bronze_df = raw_stream \\\n",
    "    .withColumn(\"source_file\", input_file_name()) \\\n",
    "    .withColumn(\"processing_time\", current_timestamp())\n",
    "\n",
    "# Start the Stream\n",
    "bronze_stream = bronze_df.writeStream \\\n",
    "    .format(\"delta\") \\\n",
    "    .option(\"checkpointLocation\", BRONZE_CHECKPOINT) \\\n",
    "    .option(\"path\", BRONZE_DELTA) \\\n",
    "    .outputMode(\"append\") \\\n",
    "    .queryName(\"bronze_stream\") \\\n",
    "    .start()\n"
   ]
  },
  {
   "cell_type": "code",
   "execution_count": 0,
   "metadata": {
    "application/vnd.databricks.v1+cell": {
     "cellMetadata": {
      "byteLimit": 2048000,
      "rowLimit": 10000
     },
     "inputWidgets": {},
     "nuid": "edee3a13-296d-4480-98d5-8c352928a5ef",
     "showTitle": false,
     "title": ""
    }
   },
   "outputs": [
    {
     "output_type": "stream",
     "name": "stdout",
     "output_type": "stream",
     "text": [
      "+--------------------+---------------+--------------------+---------+--------------------+--------------------+\n|                date|           user|                text|sentiment|         source_file|     processing_time|\n+--------------------+---------------+--------------------+---------+--------------------+--------------------+\n|Sat Apr 18 21:44:...| YouGoNormaCoco|Tanned and had di...| negative|s3a://voc-75-data...|2024-05-11 19:36:...|\n|Sat Apr 18 21:32:...|      quagliato|Acabando agora o ...| positive|s3a://voc-75-data...|2024-05-11 19:36:...|\n|Sat Apr 18 21:44:...|sicknastyalison|I still like the ...| negative|s3a://voc-75-data...|2024-05-11 19:36:...|\n|Sat Apr 18 21:51:...|cartercountry92|@Bobby_Labonte. u...| negative|s3a://voc-75-data...|2024-05-11 19:36:...|\n|Sat Apr 18 21:42:...|sputnikSweethrt|@SquashBlossom Fl...| positive|s3a://voc-75-data...|2024-05-11 19:36:...|\n|Sat Apr 18 21:57:...|    slimgoody05|Got sexual chocol...| positive|s3a://voc-75-data...|2024-05-11 19:36:...|\n|Tue Apr 07 00:23:...|        twolley|I am layin in bed...| negative|s3a://voc-75-data...|2024-05-11 19:36:...|\n|Sat Apr 18 21:41:...|Demilovatofan55|im really board a...| negative|s3a://voc-75-data...|2024-05-11 19:36:...|\n|Sat Apr 18 21:42:...|      heyMontse|@Jessicaveronica ...| positive|s3a://voc-75-data...|2024-05-11 19:36:...|\n|Tue Apr 07 00:22:...| ChristiaanVrij|goodmorning, prep...| positive|s3a://voc-75-data...|2024-05-11 19:36:...|\n|Sat Apr 18 21:45:...| taylorthornley|@AliceJong haha.....| negative|s3a://voc-75-data...|2024-05-11 19:36:...|\n|Sat Apr 18 21:46:...| SpicyBanana001|Seeking employmen...| negative|s3a://voc-75-data...|2024-05-11 19:36:...|\n|Tue Apr 07 00:23:...|    innocuous08|thinks factorial ...| negative|s3a://voc-75-data...|2024-05-11 19:36:...|\n|Sat Apr 18 21:32:...|  spencerfordad|Lyndsay hasent tw...| positive|s3a://voc-75-data...|2024-05-11 19:36:...|\n|Sat Apr 18 21:32:...|      mrgilbert|@emmafoxforce hol...| negative|s3a://voc-75-data...|2024-05-11 19:36:...|\n|Sat Apr 18 21:47:...|christinaTwitts|@craziixanna lol ...| positive|s3a://voc-75-data...|2024-05-11 19:36:...|\n|Sat Apr 18 21:52:...|  stephcappelli|@heyrhi as soon a...| positive|s3a://voc-75-data...|2024-05-11 19:36:...|\n|Sat Apr 18 21:32:...|   AlicetheBrit|on our way home, ...| negative|s3a://voc-75-data...|2024-05-11 19:36:...|\n|Sat Apr 18 21:32:...|   Britneys1Fan|Hmm im usually de...| negative|s3a://voc-75-data...|2024-05-11 19:36:...|\n|Tue Apr 07 00:22:...|   viewmagazine|@digitaldocs oh a...| positive|s3a://voc-75-data...|2024-05-11 19:36:...|\n+--------------------+---------------+--------------------+---------+--------------------+--------------------+\nonly showing top 20 rows\n\n"
     ]
    }
   ],
   "source": [
    "# In order to load the stream output data, I set aside enough time to ensure the successful execution of following cells\n",
    "time.sleep(30)\n",
    "\n",
    "# Check for Bronze Table\n",
    "bronze_df = spark.read.format(\"delta\").load(BRONZE_DELTA)\n",
    "bronze_df.show()"
   ]
  },
  {
   "cell_type": "markdown",
   "metadata": {
    "application/vnd.databricks.v1+cell": {
     "cellMetadata": {
      "byteLimit": 2048000,
      "rowLimit": 10000
     },
     "inputWidgets": {},
     "nuid": "9bc3e824-d218-43e5-a43b-4c6dbe31950d",
     "showTitle": false,
     "title": ""
    }
   },
   "source": [
    "## 4.0 Bronze Data Exploratory Data Analysis\n",
    "- How many tweets are captured in your Bronze Table?\n",
    "- Are there any columns that contain Nan or Null values?  If so how many and what will you do in your silver transforms to address this?\n",
    "- Count the number of tweets by each unique user handle and sort the data by descending count.\n",
    "- How many tweets have at least one mention (@) how many tweet have no mentions (@)\n",
    "- Plot a bar chart that shows the top 20 tweeters (users)\n"
   ]
  },
  {
   "cell_type": "code",
   "execution_count": 0,
   "metadata": {
    "application/vnd.databricks.v1+cell": {
     "cellMetadata": {
      "byteLimit": 2048000,
      "rowLimit": 10000
     },
     "inputWidgets": {},
     "nuid": "091ec59c-d968-4acf-b56f-cc9178cd0693",
     "showTitle": false,
     "title": ""
    }
   },
   "outputs": [
    {
     "output_type": "stream",
     "name": "stdout",
     "output_type": "stream",
     "text": [
      "Number of tweets in the Bronze Table: 200000\n"
     ]
    }
   ],
   "source": [
    "# ENTER YOUR CODE\n",
    "# Count Tweets in the Bronze Table\n",
    "tweet_count = spark.read.format(\"delta\").load(BRONZE_DELTA).count()\n",
    "print(f\"Number of tweets in the Bronze Table: {tweet_count}\")"
   ]
  },
  {
   "cell_type": "code",
   "execution_count": 0,
   "metadata": {
    "application/vnd.databricks.v1+cell": {
     "cellMetadata": {
      "byteLimit": 2048000,
      "rowLimit": 10000
     },
     "inputWidgets": {},
     "nuid": "6d6c04e8-2861-4363-b892-78b297c184ee",
     "showTitle": false,
     "title": ""
    }
   },
   "outputs": [
    {
     "output_type": "stream",
     "name": "stdout",
     "output_type": "stream",
     "text": [
      "+----+----+----+---------+-----------+---------------+\n|date|user|text|sentiment|source_file|processing_time|\n+----+----+----+---------+-----------+---------------+\n|   0|   0|   0|        0|          0|              0|\n+----+----+----+---------+-----------+---------------+\n\n"
     ]
    }
   ],
   "source": [
    "# Identify and Address Null Values\n",
    "bronze_df = spark.read.format(\"delta\").load(BRONZE_DELTA)\n",
    "null_counts = bronze_df.select([count(when(col(c).isNull(), c)).alias(c) for c in bronze_df.columns])\n",
    "null_counts.show()"
   ]
  },
  {
   "cell_type": "code",
   "execution_count": 0,
   "metadata": {
    "application/vnd.databricks.v1+cell": {
     "cellMetadata": {
      "byteLimit": 2048000,
      "rowLimit": 10000
     },
     "inputWidgets": {},
     "nuid": "4df88f08-6d23-4007-9a5f-93c21ba59821",
     "showTitle": false,
     "title": ""
    }
   },
   "outputs": [
    {
     "output_type": "stream",
     "name": "stdout",
     "output_type": "stream",
     "text": [
      "+---------------+-----+\n|           user|count|\n+---------------+-----+\n|       tweetpet|  310|\n|     nuttychris|  129|\n|      iHomeTech|   81|\n|       tsarnick|   77|\n| Hollywood_Trey|   71|\n|  divxdownloads|   68|\n|      lesley007|   65|\n|  redrobinrockn|   58|\n|    MissxMarisa|   57|\n|     SarahSaner|   56|\n|     sebby_peek|   55|\n|        kasey79|   54|\n|torilovesbradie|   51|\n|    whitsundays|   51|\n|         keza34|   49|\n| MiDesfileNegro|   48|\n|        Dogbook|   47|\n|   TraceyHewins|   46|\n|    effingcards|   43|\n|         Djalfy|   43|\n+---------------+-----+\nonly showing top 20 rows\n\n+-----------+------+\n|has_mention| count|\n+-----------+------+\n|          1| 93817|\n|          0|106183|\n+-----------+------+\n\n"
     ]
    }
   ],
   "source": [
    "# Count Tweets by Each User Handle\n",
    "user_tweet_counts = bronze_df.groupBy(\"user\").count().orderBy(desc(\"count\"))\n",
    "user_tweet_counts.show()\n",
    "\n",
    "# Count Tweets with Mentions\n",
    "mentions_count = bronze_df.withColumn(\"has_mention\", when(col(\"text\").contains(\"@\"), 1).otherwise(0))\n",
    "mention_stats = mentions_count.groupBy(\"has_mention\").count()\n",
    "mention_stats.show()"
   ]
  },
  {
   "cell_type": "code",
   "execution_count": 0,
   "metadata": {
    "application/vnd.databricks.v1+cell": {
     "cellMetadata": {
      "byteLimit": 2048000,
      "rowLimit": 10000
     },
     "inputWidgets": {},
     "nuid": "6ab03e7a-c27e-4f34-9265-5431362cea3b",
     "showTitle": false,
     "title": ""
    }
   },
   "outputs": [
    {
     "output_type": "display_data",
     "data": {
      "image/png": "[encoded data removed]"
     },
     "metadata": {
      "application/vnd.databricks.v1+output": {
       "addedWidgets": {},
       "arguments": {},
       "data": "data:image/png;base64,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\n",
       "datasetInfos": [],
       "metadata": {},
       "removedWidgets": [],
       "type": "image"
      }
     },
     "output_type": "display_data"
    }
   ],
   "source": [
    "# Plot a Bar Chart of the Top 20 Tweeters\n",
    "top_tweeters = user_tweet_counts.toPandas().head(20)\n",
    "plt.figure(figsize=(10, 8))\n",
    "sns.barplot(x='count', y='user', data=top_tweeters, palette='viridis')\n",
    "plt.title('Top 20 Tweeters')\n",
    "plt.xlabel('Number of Tweets')\n",
    "plt.ylabel('User Handle')\n",
    "plt.show()"
   ]
  },
  {
   "cell_type": "markdown",
   "metadata": {
    "application/vnd.databricks.v1+cell": {
     "cellMetadata": {
      "byteLimit": 2048000,
      "rowLimit": 10000
     },
     "inputWidgets": {},
     "nuid": "38c290b9-a42a-4551-857b-3f461b8a1be6",
     "showTitle": false,
     "title": ""
    }
   },
   "source": [
    "## 5.0 Transform the Bronze Data to Silver Data using a stream\n",
    "- setup a read stream on your bronze delta table\n",
    "- setup a write stream to append to the silver delta table\n",
    "- Use the defined SILVER_CHECKPOINT and SILVER_DELTA paths in the includes\n",
    "- name your bronze to silver stream as silver_stream\n",
    "- transform the bronze data to the silver data using the data definition at the top of the notebook"
   ]
  },
  {
   "cell_type": "code",
   "execution_count": 0,
   "metadata": {
    "application/vnd.databricks.v1+cell": {
     "cellMetadata": {
      "byteLimit": 2048000,
      "rowLimit": 10000
     },
     "inputWidgets": {},
     "nuid": "65b029cb-ba45-4625-a9c1-d0d410a4962b",
     "showTitle": false,
     "title": ""
    }
   },
   "outputs": [],
   "source": [
    "# ENTER YOUR CODE HERE\n",
    "\n",
    "# Read from the Bronze Delta table\n",
    "bronze_df = spark.readStream.format(\"delta\").load(BRONZE_DELTA)\n",
    "spark.conf.set(\"spark.sql.legacy.timeParserPolicy\", \"LEGACY\")\n",
    "\n",
    "# Define transformation for Silver Data\n",
    "silver_df = bronze_df \\\n",
    "    .withColumn(\"timestamp\", to_timestamp(\"date\", \"EEE MMM dd HH:mm:ss zzz yyyy\")) \\\n",
    "    .withColumn(\"mentions\", expr(\"filter(split(text, ' '), x -> x like '@%')\")) \\\n",
    "    .withColumn(\"mention\", explode(\"mentions\")) \\\n",
    "    .withColumn(\"cleaned_text\", regexp_replace(\"text\", \"@\\\\S+\", \"\")) \\\n",
    "    .select(\n",
    "        \"timestamp\",\n",
    "        \"mention\",\n",
    "        \"cleaned_text\",\n",
    "        \"sentiment\"\n",
    "    )\n",
    "\n",
    "# Setup the write stream for the Silver Delta Table\n",
    "silver_stream = silver_df.writeStream \\\n",
    "    .format(\"delta\") \\\n",
    "    .option(\"checkpointLocation\", SILVER_CHECKPOINT) \\\n",
    "    .option(\"path\", SILVER_DELTA) \\\n",
    "    .outputMode(\"append\") \\\n",
    "    .queryName(\"silver_stream\") \\\n",
    "    .start()\n"
   ]
  },
  {
   "cell_type": "code",
   "execution_count": 0,
   "metadata": {
    "application/vnd.databricks.v1+cell": {
     "cellMetadata": {
      "byteLimit": 2048000,
      "rowLimit": 10000
     },
     "inputWidgets": {},
     "nuid": "b3dabd47-7154-4f75-b025-4be68d3da256",
     "showTitle": false,
     "title": ""
    }
   },
   "outputs": [
    {
     "output_type": "stream",
     "name": "stdout",
     "output_type": "stream",
     "text": [
      "+-------------------+----------------+--------------------+---------+\n|          timestamp|         mention|        cleaned_text|sentiment|\n+-------------------+----------------+--------------------+---------+\n|2009-05-03 13:29:35|           @rjsh|  Yes, &quot;serv...| positive|\n|2009-05-03 13:29:35|@kenwilsonlondon|  Yes, &quot;serv...| positive|\n|2009-05-03 13:29:26|@animalspiritsdr| I prayed for mer...| negative|\n|2009-05-03 13:54:07|@AnimalRightsNow| Good4u~hate conc...| negative|\n|2009-05-03 13:32:39|       @jasmooti| jas don't cry  t...| negative|\n|2009-05-03 13:29:01|     @Squeakynee| ohhh BBQ wish I ...| negative|\n|2009-04-07 12:54:27|    @DelphaForce| How'd you guess!...| negative|\n|2009-05-03 13:29:37|     @babymakes7| That's interesti...| positive|\n|2009-05-03 13:34:36|  @PensieveRobin| so glad you guys...| positive|\n|2009-05-03 13:44:17|       @clara018| yeah omg i do to...| positive|\n|2009-05-03 13:49:32|   @la_revanche:| idk if i can com...| negative|\n|2009-05-03 13:28:49|      @alonalona| My stepkids....b...| negative|\n|2009-05-03 13:34:19|     @NickCannon| u make other guy...| positive|\n|2009-05-03 13:38:22|    @HannahNikki| I had 3b cervica...| negative|\n|2009-05-03 13:38:22|               @| I had 3b cervica...| negative|\n|2009-05-03 13:42:27|   @Wickedness77| hehe awesome!!!!...| negative|\n|2009-05-03 13:33:48|     @Devilslair| probably not! Se...| negative|\n|2009-05-03 13:34:10|     @chadcarson| Wow... I am imag...| positive|\n|2009-05-03 13:37:55|       @tommcfly| Your life seems ...| negative|\n|2009-05-03 13:49:22|    @HipplePatel|  Thanks for the ...| positive|\n+-------------------+----------------+--------------------+---------+\nonly showing top 20 rows\n\n"
     ]
    }
   ],
   "source": [
    "# In order to load the stream output data, I set aside enough time to ensure the successful execution of following cells\n",
    "time.sleep(120)\n",
    "\n",
    "# Check for Silver Table\n",
    "silver_df = spark.read.format(\"delta\").load(SILVER_DELTA)\n",
    "silver_df.show()"
   ]
  },
  {
   "cell_type": "markdown",
   "metadata": {
    "application/vnd.databricks.v1+cell": {
     "cellMetadata": {
      "byteLimit": 2048000,
      "rowLimit": 10000
     },
     "inputWidgets": {},
     "nuid": "9ee38aba-e340-4766-8339-71ef2ecfde3a",
     "showTitle": false,
     "title": ""
    }
   },
   "source": [
    "## 6.0 Transform the Silver Data to Gold Data using a stream\n",
    "- setup a read stream on your silver delta table\n",
    "- setup a write stream to append to the gold delta table\n",
    "- Use the defined GOLD_CHECKPOINT and GOLD_DELTA paths defines in the includes\n",
    "- name your silver to gold stream as gold_stream\n",
    "- transform the silver data to the gold data using the data definition at the top of the notebook\n",
    "- Load the pretrained transformer sentiment classifier from the MODEL_NAME at the production level from the MLflow registry\n",
    "- Use a spark UDF to parallelize the inference across your silver data"
   ]
  },
  {
   "cell_type": "code",
   "execution_count": 0,
   "metadata": {
    "application/vnd.databricks.v1+cell": {
     "cellMetadata": {
      "byteLimit": 2048000,
      "rowLimit": 10000
     },
     "inputWidgets": {},
     "nuid": "31e8949d-c016-44a7-9f03-65f471dfd22d",
     "showTitle": false,
     "title": ""
    }
   },
   "outputs": [
    {
     "output_type": "stream",
     "name": "stdout",
     "output_type": "stream",
     "text": [
      "/local_disk0/.ephemeral_nfs/envs/pythonEnv-c725c3de-cfe7-4995-ac19-2bbf9b27ac70/lib/python3.9/site-packages/huggingface_hub/file_download.py:1132: FutureWarning: `resume_download` is deprecated and will be removed in version 1.0.0. Downloads always resume when possible. If you want to force a new download, use `force_download=True`.\n  warnings.warn(\n"
     ]
    }
   ],
   "source": [
    "# ENTER YOUR CODE HERE\n",
    "silver_df = spark.readStream.format(\"delta\").load(SILVER_DELTA)\n",
    "\n",
    "model_name = \"finiteautomata/bertweet-base-sentiment-analysis\"\n",
    "model_pipeline = pipeline(\"sentiment-analysis\", model=model_name)\n",
    "\n",
    "@udf(returnType=\"struct<score:float, label:string>\")\n",
    "def sentiment_analysis(text):\n",
    "    try:\n",
    "        result = model_pipeline(text)[0]\n",
    "        return (result['score'], result['label'])\n",
    "    except Exception as e:\n",
    "        return (None, None)\n",
    "\n",
    "# Transform Silver Data to Gold Data\n",
    "gold_df = silver_df \\\n",
    "    .withColumn(\"sentiment_analysis\", sentiment_analysis(col(\"cleaned_text\"))) \\\n",
    "    .withColumn(\"predicted_score\", col(\"sentiment_analysis.score\") * 100) \\\n",
    "    .withColumn(\"predicted_sentiment\", col(\"sentiment_analysis.label\")) \\\n",
    "    .withColumn(\"sentiment_id\", when(col(\"sentiment\") == \"negative\", 0).otherwise(1)) \\\n",
    "    .withColumn(\"predicted_sentiment_id\", when(col(\"predicted_sentiment\") == \"NEGATIVE\", 0).otherwise(1)) \\\n",
    "    .select(\n",
    "        \"timestamp\",\n",
    "        \"mention\",\n",
    "        \"cleaned_text\",\n",
    "        \"sentiment\",\n",
    "        \"predicted_score\",\n",
    "        \"predicted_sentiment\",\n",
    "        \"sentiment_id\",\n",
    "        \"predicted_sentiment_id\"\n",
    "    )\n",
    "\n",
    "# Setup stream to the Gold Delta Table\n",
    "gold_stream = gold_df.writeStream \\\n",
    "    .format(\"delta\") \\\n",
    "    .option(\"checkpointLocation\", GOLD_CHECKPOINT) \\\n",
    "    .option(\"path\", GOLD_DELTA) \\\n",
    "    .outputMode(\"append\") \\\n",
    "    .queryName(\"gold_stream\") \\\n",
    "    .start()"
   ]
  },
  {
   "cell_type": "code",
   "execution_count": 0,
   "metadata": {
    "application/vnd.databricks.v1+cell": {
     "cellMetadata": {
      "byteLimit": 2048000,
      "rowLimit": 10000
     },
     "inputWidgets": {},
     "nuid": "709a0f8b-9a4d-4888-b4cb-5612aeae79b8",
     "showTitle": false,
     "title": ""
    }
   },
   "outputs": [
    {
     "output_type": "stream",
     "name": "stdout",
     "output_type": "stream",
     "text": [
      "+-------------------+----------------+--------------------+---------+---------------+-------------------+------------+----------------------+\n|          timestamp|         mention|        cleaned_text|sentiment|predicted_score|predicted_sentiment|sentiment_id|predicted_sentiment_id|\n+-------------------+----------------+--------------------+---------+---------------+-------------------+------------+----------------------+\n|2009-05-02 07:15:05|     @chaunceycc| http://twitpic.c...| negative|       74.30921|                POS|           0|                     1|\n|2009-05-02 07:16:21|    @LATHumphrey| I dedicated my d...| negative|      83.724556|                NEG|           0|                     1|\n|2009-05-02 07:25:35|   @PumpkinPeazy| haha.First time ...| negative|       75.43863|                POS|           0|                     1|\n|2009-05-02 07:35:45|   @NicolaWwilts| wow, you start e...| positive|       97.28787|                POS|           1|                     1|\n|2009-05-02 07:36:28|  @IvanCampuzano|Many people in st...| positive|       94.79782|                POS|           1|                     1|\n|2009-05-02 07:11:11|    @mandiengram|AND thx 4 follows...| positive|       98.83023|                POS|           1|                     1|\n|2009-05-02 07:11:11|        @troyzee|AND thx 4 follows...| positive|       98.83023|                POS|           1|                     1|\n|2009-05-02 07:11:11|        @ryanm07|AND thx 4 follows...| positive|       98.83023|                POS|           1|                     1|\n|2009-05-02 07:11:11|     @wadester23|AND thx 4 follows...| positive|       98.83023|                POS|           1|                     1|\n|2009-05-02 07:11:11|   @heatherRETax|AND thx 4 follows...| positive|       98.83023|                POS|           1|                     1|\n|2009-05-02 07:11:11|         @MFRian|AND thx 4 follows...| positive|       98.83023|                POS|           1|                     1|\n|2009-05-02 07:11:11|       @hamthrax|AND thx 4 follows...| positive|       98.83023|                POS|           1|                     1|\n|2009-05-02 07:11:16|  @Lisa_Veronica| Hi lisa! Watz up...| positive|       99.22985|                POS|           1|                     1|\n|2009-05-02 07:20:52| @GiniLovesJonas| Cool! What you s...| positive|       72.28554|                NEU|           1|                     1|\n|2009-05-02 07:24:57|       @JoJo_sxm| Oh yeh and I'm g...| negative|      49.125828|                POS|           0|                     1|\n|2009-05-02 07:25:53|@patricia_coelho|reminds me of Mar...| positive|       80.39858|                POS|           1|                     1|\n|2009-05-02 07:25:53|      @rerkaizen|reminds me of Mar...| positive|       80.39858|                POS|           1|                     1|\n|2009-05-02 07:25:53|        @xmarina|reminds me of Mar...| positive|       80.39858|                POS|           1|                     1|\n|2009-05-02 07:25:53|      @flavytcha|reminds me of Mar...| positive|       80.39858|                POS|           1|                     1|\n|2009-05-02 07:25:53|       @DjFla...|reminds me of Mar...| positive|       80.39858|                POS|           1|                     1|\n+-------------------+----------------+--------------------+---------+---------------+-------------------+------------+----------------------+\nonly showing top 20 rows\n\n"
     ]
    }
   ],
   "source": [
    "# In order to load the stream output data, I set aside enough time to ensure the successful execution of following cells\n",
    "time.sleep(600)\n",
    "\n",
    "# Check for Gold Table\n",
    "gold_df = spark.read.format(\"delta\").load(GOLD_DELTA)\n",
    "gold_df.show()"
   ]
  },
  {
   "cell_type": "markdown",
   "metadata": {
    "application/vnd.databricks.v1+cell": {
     "cellMetadata": {
      "byteLimit": 2048000,
      "rowLimit": 10000
     },
     "inputWidgets": {},
     "nuid": "0494d8b4-5a55-47fc-af12-47325f34a303",
     "showTitle": false,
     "title": ""
    }
   },
   "source": [
    "## 7.0 Capture the accuracy metrics from the gold table in MLflow\n",
    "Store the following in an MLflow experiment run:\n",
    "- Store the precision, recall, and F1-score as MLflow metrics\n",
    "- Store an image of the confusion matrix as an MLflow artifact\n",
    "- Store the model name and the MLflow version that was used as an MLflow parameters\n",
    "- Store the version of the Delta Table (input-silver) as an MLflow parameter"
   ]
  },
  {
   "cell_type": "code",
   "execution_count": 0,
   "metadata": {
    "application/vnd.databricks.v1+cell": {
     "cellMetadata": {
      "byteLimit": 2048000,
      "rowLimit": 10000
     },
     "inputWidgets": {},
     "nuid": "3bb174ad-67e4-4b0a-be36-ff20a760ee8b",
     "showTitle": false,
     "title": ""
    }
   },
   "outputs": [
    {
     "output_type": "stream",
     "name": "stdout",
     "output_type": "stream",
     "text": [
      "/databricks/python/lib/python3.9/site-packages/sklearn/metrics/_classification.py:1248: UndefinedMetricWarning: Precision and F-score are ill-defined and being set to 0.0 in labels with no predicted samples. Use `zero_division` parameter to control this behavior.\n  _warn_prf(average, modifier, msg_start, len(result))\n/databricks/python/lib/python3.9/site-packages/sklearn/metrics/_classification.py:1248: UndefinedMetricWarning: Precision and F-score are ill-defined and being set to 0.0 in labels with no predicted samples. Use `zero_division` parameter to control this behavior.\n  _warn_prf(average, modifier, msg_start, len(result))\n/databricks/python/lib/python3.9/site-packages/sklearn/metrics/_classification.py:1248: UndefinedMetricWarning: Precision and F-score are ill-defined and being set to 0.0 in labels with no predicted samples. Use `zero_division` parameter to control this behavior.\n  _warn_prf(average, modifier, msg_start, len(result))\n"
     ]
    }
   ],
   "source": [
    "# ENTER YOUR CODE HERE\n",
    "\n",
    "# Convert to Pandas for evaluation\n",
    "pdf = gold_df.select(\"sentiment_id\", \"predicted_sentiment_id\").toPandas()\n",
    "\n",
    "# Calculate metrics\n",
    "report = classification_report(pdf['sentiment_id'], pdf['predicted_sentiment_id'], output_dict=True)\n",
    "precision = report['weighted avg']['precision']\n",
    "recall = report['weighted avg']['recall']\n",
    "f1_score = report['weighted avg']['f1-score']\n",
    "\n",
    "# Confusion Matrix\n",
    "conf_matrix = confusion_matrix(pdf['sentiment_id'], pdf['predicted_sentiment_id'])\n",
    "\n",
    "# Plot Confusion Matrix and Save as Image\n",
    "plt.figure(figsize=(10, 8))\n",
    "sns.heatmap(conf_matrix, annot=True, fmt='d', cmap='Blues')\n",
    "plt.title('Confusion Matrix')\n",
    "plt.xlabel('Predicted')\n",
    "plt.ylabel('Actual')\n",
    "confusion_matrix_path = \"/tmp/confusion_matrix.png\"\n",
    "plt.savefig(confusion_matrix_path)\n",
    "plt.close()\n",
    "\n",
    "#  Start an MLflow Run to Log Metrics, Parameters, and Artifacts\n",
    "delta_table_path = GOLD_DELTA \n",
    "latest_version = spark.sql(f\"DESCRIBE HISTORY delta.`{delta_table_path}`\").collect()[0][\"version\"]\n",
    "\n",
    "with mlflow.start_run():\n",
    "    # Log metrics\n",
    "    mlflow.log_metric(\"Precision\", precision)\n",
    "    mlflow.log_metric(\"Recall\", recall)\n",
    "    mlflow.log_metric(\"F1 Score\", f1_score)\n",
    "\n",
    "    # Log confusion matrix as an artifact\n",
    "    mlflow.log_artifact(confusion_matrix_path)\n",
    "\n",
    "    # Log parameters\n",
    "    mlflow.log_param(\"Model Name\", model_name)\n",
    "    mlflow.log_param(\"MLflow Version\", mlflow.__version__)\n",
    "    mlflow.log_param(\"Delta Table Version\", latest_version)\n"
   ]
  },
  {
   "cell_type": "markdown",
   "metadata": {
    "application/vnd.databricks.v1+cell": {
     "cellMetadata": {
      "byteLimit": 2048000,
      "rowLimit": 10000
     },
     "inputWidgets": {},
     "nuid": "81e0e2de-b872-4698-81cc-1669646c2183",
     "showTitle": false,
     "title": ""
    }
   },
   "source": [
    "## 8.0 Application Data Processing and Visualization\n",
    "- How many mentions are there in the gold data total?\n",
    "- Count the number of neutral, positive and negative tweets for each mention in new columns\n",
    "- Capture the total for each mention in a new column\n",
    "- Sort the mention count totals in descending order\n",
    "- Plot a bar chart of the top 20 mentions with positive sentiment (the people who are in favor)\n",
    "- Plot a bar chart of the top 20 mentions with negative sentiment (the people who are the vilians)\n",
    "\n",
    "You may want to use the \"Loop Application\" widget to control whether you repeateded display the latest plots while the data comes in from your streams before moving on to the next section and cleaning up your run.\n",
    "\n",
    "*note: A mention is a specific twitter user that has been \"mentioned\" in a tweet with an @user reference."
   ]
  },
  {
   "cell_type": "code",
   "execution_count": 0,
   "metadata": {
    "application/vnd.databricks.v1+cell": {
     "cellMetadata": {
      "byteLimit": 2048000,
      "rowLimit": 10000
     },
     "inputWidgets": {},
     "nuid": "8250667b-eaa5-48a1-90c7-bfe11e666e32",
     "showTitle": false,
     "title": ""
    }
   },
   "outputs": [
    {
     "output_type": "display_data",
     "data": {
      "image/png": "[encoded data removed]"
     },
     "metadata": {
      "application/vnd.databricks.v1+output": {
       "addedWidgets": {},
       "arguments": {},
       "data": "data:image/png;base64,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\n",
       "datasetInfos": [],
       "metadata": {},
       "removedWidgets": [],
       "type": "image"
      }
     },
     "output_type": "display_data"
    },
    {
     "output_type": "display_data",
     "data": {
      "image/png": "[encoded data removed]"
     },
     "metadata": {
      "application/vnd.databricks.v1+output": {
       "addedWidgets": {},
       "arguments": {},
       "data": "data:image/png;base64,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\n",
       "datasetInfos": [],
       "metadata": {},
       "removedWidgets": [],
       "type": "image"
      }
     },
     "output_type": "display_data"
    }
   ],
   "source": [
    "# ENTER YOUR CODE HERE\n",
    "\n",
    "def update_data():\n",
    "    # Load the gold data\n",
    "    gold_df = spark.read.format(\"delta\").load(GOLD_DELTA)\n",
    "\n",
    "    # Aggregation by mention and sentiment\n",
    "    mention_sentiment_counts = gold_df.groupBy(\"mention\").pivot(\"predicted_sentiment\").count()\n",
    "\n",
    "    # Ensure the counts for all sentiments are available as columns, filling missing with 0\n",
    "    mention_totals = mention_sentiment_counts.na.fill(0)\n",
    "\n",
    "    # Adding a total count for each mention\n",
    "    mention_totals = mention_totals.withColumn(\"Total\", F.col(\"POS\") + F.col(\"NEG\") + F.col(\"NEU\"))\n",
    "\n",
    "    # Sort by the total counts in descending order\n",
    "    sorted_mentions = mention_totals.orderBy(F.col(\"Total\").desc())\n",
    "\n",
    "    # Convert to Pandas DataFrame for visualization\n",
    "    mention_pd = sorted_mentions.toPandas()\n",
    "\n",
    "    return mention_pd\n",
    "\n",
    "def plot_data(mention_pd):\n",
    "    # Plotting top 20 mentions with positive sentiment\n",
    "    top_positive_mentions = mention_pd.nlargest(20, 'POS')\n",
    "    plt.figure(figsize=(12, 8))\n",
    "    sns.barplot(data=top_positive_mentions, x='POS', y='mention', palette='Greens')\n",
    "    plt.title('Top 20 Mentions with Positive Sentiment')\n",
    "    plt.xlabel('Count of Positive Mentions')\n",
    "    plt.ylabel('Mention')\n",
    "    plt.show()\n",
    "\n",
    "    # Plotting top 20 mentions with negative sentiment\n",
    "    top_negative_mentions = mention_pd.nlargest(20, 'NEG')\n",
    "    plt.figure(figsize=(12, 8))\n",
    "    sns.barplot(data=top_negative_mentions, x='NEG', y='mention', palette='Reds')\n",
    "    plt.title('Top 20 Mentions with Negative Sentiment')\n",
    "    plt.xlabel('Count of Negative Mentions')\n",
    "    plt.ylabel('Mention')\n",
    "    plt.show()\n",
    "\n",
    "# Check the widget's value to decide whether to continue updating\n",
    "if dbutils.widgets.get(\"update_plots\") == \"Yes\":\n",
    "    mention_pd = update_data()\n",
    "    clear_output(wait=True)\n",
    "    plot_data(mention_pd)\n",
    "else:\n",
    "    # If the widget is not set to \"Yes\", wait when 'Yes' and check again\n",
    "    print(f\"Switch 'update_plots' widgets to 'Yes' to update the plots.\")"
   ]
  },
  {
   "cell_type": "markdown",
   "metadata": {
    "application/vnd.databricks.v1+cell": {
     "cellMetadata": {
      "byteLimit": 2048000,
      "rowLimit": 10000
     },
     "inputWidgets": {},
     "nuid": "5d5add3f-0c13-4d81-86d8-12cf3cfdd2c8",
     "showTitle": false,
     "title": ""
    }
   },
   "source": [
    "## 9.0 Clean up and completion of your pipeline\n",
    "- using the utilities what streams are running? If any.\n",
    "- Stop all active streams\n",
    "- print out the elapsed time of your notebook."
   ]
  },
  {
   "cell_type": "code",
   "execution_count": 0,
   "metadata": {
    "application/vnd.databricks.v1+cell": {
     "cellMetadata": {
      "byteLimit": 2048000,
      "rowLimit": 10000
     },
     "inputWidgets": {},
     "nuid": "0304e685-c26e-447d-b230-c37266f30003",
     "showTitle": false,
     "title": ""
    }
   },
   "outputs": [
    {
     "output_type": "stream",
     "name": "stdout",
     "output_type": "stream",
     "text": [
      "Stream Name: silver_stream\nIs Active: True\nStream ID: 639a8ae2-85ee-4a62-99a8-9e001d6925ab\n\n\nStream Name: bronze_stream\nIs Active: True\nStream ID: 3f36b022-effd-4cd3-bdd0-4c782662b85c\n\n\nStream Name: gold_stream\nIs Active: True\nStream ID: 086db8a1-755a-41e7-a2ac-e404769175e4\n\n\n"
     ]
    }
   ],
   "source": [
    "# ENTER YOUR CODE HERE\n",
    "# Check the active streams\n",
    "active_streams = spark.streams.active\n",
    "\n",
    "for stream in active_streams:\n",
    "    print(f\"Stream Name: {stream.name}\")\n",
    "    print(f\"Is Active: {stream.isActive}\")\n",
    "    print(f\"Stream ID: {stream.id}\")\n",
    "    print(\"\\n\")\n",
    "    \n",
    "# Stop all streams\n",
    "for stream in active_streams:\n",
    "    stream.stop()"
   ]
  },
  {
   "cell_type": "code",
   "execution_count": 0,
   "metadata": {
    "application/vnd.databricks.v1+cell": {
     "cellMetadata": {
      "byteLimit": 2048000,
      "rowLimit": 10000
     },
     "inputWidgets": {},
     "nuid": "ea759fc8-1d78-4d6d-b571-e2e256448b76",
     "showTitle": false,
     "title": ""
    }
   },
   "outputs": [
    {
     "output_type": "stream",
     "name": "stdout",
     "output_type": "stream",
     "text": [
      "It took 1110.3115820884705 to run all the notebook\n"
     ]
    }
   ],
   "source": [
    "# Get the notebooks ending time note START_TIME was established in the include file when the notebook started.\n",
    "END_TIME = time.time()\n",
    "TOTAL_TIME = END_TIME - START_TIME\n",
    "print(f'It took {TOTAL_TIME} to run all the notebook')"
   ]
  },
  {
   "cell_type": "markdown",
   "metadata": {
    "application/vnd.databricks.v1+cell": {
     "cellMetadata": {
      "byteLimit": 2048000,
      "rowLimit": 10000
     },
     "inputWidgets": {},
     "nuid": "b88fc0e5-f50c-4ed1-9480-16a4c8a44b30",
     "showTitle": false,
     "title": ""
    }
   },
   "source": [
    "## 10.0 How Optimized is your Spark Application (Grad Students Only)\n",
    "Graduate students (registered for the DSCC-402 section of the course) are required to do this section.  This is a written analysis using the Spark UI (link to screen shots) that support your analysis of your pipelines execution and what is driving its performance.\n",
    "Recall that Spark Optimization has 5 significant dimensions of considertation:\n",
    "- Spill: write to executor disk due to lack of memory\n",
    "- Skew: imbalance in partition size\n",
    "- Shuffle: network io moving data between executors (wide transforms)\n",
    "- Storage: inefficiency due to disk storage format (small files, location)\n",
    "- Serialization: distribution of code segments across the cluster\n",
    "\n",
    "Comment on each of the dimentions of performance and how your impelementation is or is not being affected.  Use specific information in the Spark UI to support your description.  \n",
    "\n",
    "Note: you can take sreenshots of the Spark UI from your project runs in databricks and then link to those pictures by storing them as a publicly accessible file on your cloud drive (google, one drive, etc.)\n",
    "\n",
    "References:\n",
    "- [Spark UI Reference Reference](https://spark.apache.org/docs/latest/web-ui.html#web-ui)\n",
    "- [Spark UI Simulator](https://www.databricks.training/spark-ui-simulator/index.html)"
   ]
  },
  {
   "cell_type": "markdown",
   "metadata": {
    "application/vnd.databricks.v1+cell": {
     "cellMetadata": {
      "byteLimit": 2048000,
      "rowLimit": 10000
     },
     "inputWidgets": {},
     "nuid": "a0a5707d-a5ca-4e87-9e74-3b13d00337b0",
     "showTitle": false,
     "title": ""
    }
   },
   "source": [
    "### ENTER YOUR MARKDOWN HERE"
   ]
  },
  {
   "cell_type": "markdown",
   "metadata": {
    "application/vnd.databricks.v1+cell": {
     "cellMetadata": {
      "byteLimit": 2048000,
      "rowLimit": 10000
     },
     "inputWidgets": {},
     "nuid": "64b70329-0c93-47cc-9358-0fa704506c78",
     "showTitle": false,
     "title": ""
    }
   },
   "source": [
    "#### Shuffle\n",
    "\n",
    "Screenshot link: https://drive.google.com/file/d/1OymtQ_ZnozJJZ_Z_rDs2k7Q-RyqSltft/view?usp=sharing\n",
    "\n",
    "- The screenshot provides metrics into the shuffle behavior of tasks, a critical performance aspect of distributed computing. Specifically, the \"Shuffle Read\" and \"Shuffle Write\" columns are key indicators of how data is being transferred across the cluster, which is central to understanding the efficiency of data processing tasks that involve wide transformations such as joins, aggregations, or groupBy operations. In the displayed stages, there are varying amounts of shuffle data, with certain stages showing significant shuffle writes in the kilobytes range. For example, stage 912 evidences a shuffle write of approximately 6180 B alongside a corresponding shuffle read in a subsequent stage, indicating a transfer of intermediate data between stages. This pattern of shuffle activity suggests that the operations in these stages are likely causing a redistribution of data across the cluster's nodes, which can be a potential bottleneck if not managed properly. Moreover, the balance between shuffle read and write volumes across different stages offers insights into the data flow and processing chain within the application, where optimizing the shuffle process might involve minimizing unnecessary data transfers or improving the partitioning of data to reduce network overhead. Efficient management of shuffle can significantly impact the overall performance of Spark applications, as excessive shuffle can lead to increased network I/O, greater disk I/O when data spills over from memory, and ultimately, longer job execution times. Therefore, careful tuning of partitioning strategies and a thorough review of transformation operations are imperative to optimize shuffle behavior, ensuring a more efficient execution of distributed data processing tasks in Spark."
   ]
  },
  {
   "cell_type": "markdown",
   "metadata": {
    "application/vnd.databricks.v1+cell": {
     "cellMetadata": {
      "byteLimit": 2048000,
      "rowLimit": 10000
     },
     "inputWidgets": {},
     "nuid": "8a311223-79cc-4c10-8891-657303322108",
     "showTitle": false,
     "title": ""
    }
   },
   "source": [
    "#### Serialization\n",
    "\n",
    "Screenshot link: https://drive.google.com/file/d/1WDmq4GKEXrznlopCqiCWexSsXuLMtsVg/view?usp=sharing\n",
    "\n",
    "- This screenshot from the Spark UI reveals detailed task performance metrics that primarily shed light on the dimension of Serialization, particularly focusing on task deserialization and result serialization times. The event timeline and summary metrics illustrate several vital aspects of how data and tasks are serialized and deserialized across Spark's distributed architecture. In the screenshot, the \"Task Deserialization Time\" and \"Result Serialization Time\" metrics are particularly relevant. The deserialization time, which refers to the time taken to convert byte streams back into Spark data structures at the executor side, shows a minimum and median around 9-10 ms, peaking at 16 ms. This indicates a relatively efficient deserialization process, suggesting that the overhead from this serialization aspect is minimal.\n",
    "\n",
    "- However, even minimal serialization or deserialization times can accumulate significant delays in larger-scale operations, particularly when dealing with vast datasets or complex iterative algorithms where tasks are frequently serialized and deserialized. Efficient serialization processes are vital for minimizing these overheads, as poor serialization strategies can lead to increased data size, longer transmission times, and ultimately slower task execution. Result serialization, which involves converting computation results into a format suitable for transmission back to the driver or storage, shows minimal overhead in this instance, which is an ideal scenario in Spark operations.\n",
    "\n",
    "- Optimizing serialization in Spark often involves choosing the right data formats and serialization libraries. For example, using Kryo serialization instead of Java serialization can significantly reduce serialization costs due to its superior performance and efficiency in handling large numbers of objects. Furthermore, minimizing the data that needs to be serialized — by filtering down to necessary fields before shuffling or caching data — can also reduce the impact of serialization on overall application performance.\n",
    "\n",
    "- In summary, while the current serialization times shown do not suggest a significant bottleneck, continuous monitoring and optimization of serialization settings remain crucial for scaling applications efficiently. Adjustments such as tuning the Spark configuration for serialization, selecting efficient data structures, and considering the serialization format can lead to substantial performance gains in distributed computing environments like Spark."
   ]
  },
  {
   "cell_type": "markdown",
   "metadata": {
    "application/vnd.databricks.v1+cell": {
     "cellMetadata": {
      "byteLimit": 2048000,
      "rowLimit": 10000
     },
     "inputWidgets": {},
     "nuid": "0276b498-6d01-4052-9890-a7bbb069f6b7",
     "showTitle": false,
     "title": ""
    }
   },
   "source": [
    "#### Spill\n",
    "\n",
    "Screenshot link: https://drive.google.com/file/d/1nw5hxn7H87U6lmcQQwfCjhwUxl6MbNzt/view?usp=sharing\n",
    "\n",
    "- This screenshot displays a detailed overview of the Executors tab, specifically highlighting the utilization of resources such as storage memory, disk usage, and active tasks, which is closely tied to the dimension of Spill. The screenshot reveals that each executor has utilized a substantial amount of storage memory (approximately 10.4 GiB on heap) and also indicates disk usage (517.1 MiB). While the screenshot does not explicitly show memory spills, the use of disk space in the context of executors with considerable memory utilization suggests that spillage might be occurring, especially if the tasks involve large datasets or wide transformations that exceed the memory capacity assigned to each executor.\n",
    "\n",
    "- Moreover, the fact that all the tasks are marked as completed successfully without any failures suggests that the system is managing to process the workload despite the potential high memory demand and possible spillage. However, the reliance on disk space indicates that optimizing memory management could potentially improve performance. Strategies to prevent or minimize spillage include increasing memory allocation to executors, optimizing the persistence levels of RDDs or DataFrames (e.g., choosing MEMORY_AND_DISK over MEMORY_ONLY), and adjusting the configuration settings like `spark.memory.fraction` and `spark.shuffle.compress` to better manage memory usage.\n",
    "\n",
    "- In addition to hardware adjustments, software-level optimizations such as repartitioning data to ensure more uniform distribution among tasks or tuning the size of partitions to better fit the available memory can also help reduce the need for spillage. Analyzing the shuffle write and read metrics along with task deserialization time can provide further insights into how effectively data is being processed across the cluster and whether additional optimizations are necessary to reduce disk spillage and improve overall performance.\n",
    "\n",
    "- These measures are crucial for maintaining efficiency and ensuring that Spark applications run optimally, particularly in environments handling large-scale data processing tasks. By continuously monitoring and adjusting the memory management configurations based on the workload characteristics and system performance, one can significantly mitigate the impact of spill-related issues on Spark applications."
   ]
  },
  {
   "cell_type": "markdown",
   "metadata": {
    "application/vnd.databricks.v1+cell": {
     "cellMetadata": {
      "byteLimit": 2048000,
      "rowLimit": 10000
     },
     "inputWidgets": {},
     "nuid": "fa5c6f17-1fd3-4d39-a799-e61189c40c4e",
     "showTitle": false,
     "title": ""
    }
   },
   "source": [
    "#### Storage\n",
    "\n",
    "Screenshot link: https://drive.google.com/file/d/11HwL_FoWxo5QbpMVUBq8dMSqNjdx2p2V/view?usp=sharing\n",
    "\n",
    "- This screenshot gives detailed insights into how data is being stored and managed across the cluster. We see various metrics related to Parquet IO Cache, data read and written to the IO cache, and detailed information on RDD storage. The data shows that Parquet files are being utilized, which are known for their efficiency in both storage and read/write operations due to their columnar storage format. This format allows for better compression and encoding schemes, significantly enhancing data retrieval operations by enabling selective reads of only the necessary columns.\n",
    "\n",
    "- Moreover, the metrics show a total disk usage well below the limit (24.8 MiB used out of 463.9 GiB available), indicating that the current data management strategy is highly effective without nearing storage capacity limits. This efficiency is further emphasized by the metadata cache usage, which is at 0% of its 9.3 GiB limit, suggesting that metadata operations are not consuming excessive resources, thus maintaining a lean operational profile.\n",
    "\n",
    "- The efficient use of storage is further evidenced by the \"Data Read from IO Cache\" and \"Data Written to IO Cache,\" indicating that Spark is effectively utilizing its caching mechanisms to speed up data access. The cache hit ratio at 64% suggests that over half of the read requests are served directly from the cache, reducing the need to access the disk frequently and thereby speeding up the data processing tasks. Additionally, the use of compressed data formats, as shown by the compressed read and write operations, helps in reducing the I/O operations' impact on the system’s overall performance. By minimizing the data footprint on disk and during transfers, Spark can operate more swiftly and scale more effectively when processing large datasets.\n",
    "\n",
    "- In summary, the storage strategies employed here—leveraging efficient data formats like Parquet, optimizing cache usage, and ensuring data compression—are pivotal for enhancing the performance of Spark applications. These strategies reduce the load on the system resources, enable faster data processing, and ensure scalability, which are essential for handling big data applications efficiently. As Spark continues to handle larger and more complex datasets, maintaining and enhancing these storage strategies will be crucial for sustaining and improving performance."
   ]
  },
  {
   "cell_type": "markdown",
   "metadata": {
    "application/vnd.databricks.v1+cell": {
     "cellMetadata": {
      "byteLimit": 2048000,
      "rowLimit": 10000
     },
     "inputWidgets": {},
     "nuid": "471c11c7-5494-40cd-b3f9-5f8356183559",
     "showTitle": false,
     "title": ""
    }
   },
   "source": [
    "#### Skew\n",
    "\n",
    "Screenshot link: https://drive.google.com/file/d/18VOVYe_O3vnnnXaxcw3WjThb4314Is5W/view?usp=sharing\n",
    "\n",
    "- This screenshot from the cluster report provides a comprehensive view of the system's performance metrics, mainly focusing on CPU load, memory usage, and network activity. Data skew refers to unequal distribution of data across partitions, which can lead to some nodes in the cluster being overburdened while others remain underutilized, impacting overall performance and efficiency.\n",
    "\n",
    "- In the cluster report, while specific indicators of skew are not directly visible, we can infer potential skew issues from the \"Server Load Distribution\" and \"Cluster CPU Last Hour\" charts. These visualizations show the load and CPU usage across different times and nodes. If certain nodes consistently show higher CPU usage or load compared to others, it could suggest that those nodes are processing larger chunks of data or more complex operations, indicative of data skew. Additionally, the \"Cluster Network Last Hour\" graph shows spikes in network activity, which might be related to data being shuffled across the cluster to manage imbalanced loads, further hinting at possible skew issues.\n",
    "\n",
    "- Properly addressing data skew involves strategies such as repartitioning the data more evenly across the cluster, increasing the level of parallelism, or applying custom partitioning logic to ensure a more uniform distribution of data. Techniques like salting keys to modify the data before applying 'groupBy' or 'join' operations can also help mitigate skew by breaking up large, concentrated datasets into more manageable parts.\n",
    "\n",
    "- Understanding and rectifying data skew is crucial because it not only affects the performance of individual nodes but can also lead to increased execution times and resource wastage, as overburdened nodes slow down the entire computation process. Regular monitoring of these metrics, therefore, is essential to identify and correct skew early in the process, ensuring that resources are optimally utilized and performance bottlenecks are minimized. By continuously adjusting the data distribution strategies in response to observed performance metrics, Spark applications can achieve better scalability and efficiency, handling large-scale data processing tasks more effectively."
   ]
  }
 ],
 "metadata": {
  "application/vnd.databricks.v1+notebook": {
   "dashboards": [],
   "language": "python",
   "notebookMetadata": {
    "mostRecentlyExecutedCommandWithImplicitDF": {
     "commandId": -1,
     "dataframes": [
      "_sqldf"
     ]
    },
    "pythonIndentUnit": 4,
    "widgetLayout": [
     {
      "breakBefore": false,
      "name": "clear_previous_run",
      "width": 203
     },
     {
      "breakBefore": false,
      "name": "stop_streams",
      "width": 203
     }
    ]
   },
   "notebookName": "Starter Streaming Tweet Sentiment - Spring 2024 Final Project",
   "widgets": {
    "clear_previous_run": {
     "currentValue": "No",
     "nuid": "11b43403-c70f-41ef-ab0e-41172583baaa",
     "typedWidgetInfo": null,
     "widgetInfo": {
      "widgetType": "dropdown",
      "defaultValue": "No",
      "label": null,
      "name": "clear_previous_run",
      "options": {
       "widgetType": "dropdown",
       "autoCreated": null,
       "choices": [
        "No",
        "Yes"
       ]
      }
     }
    },
    "optimize_tables": {
     "currentValue": "No",
     "nuid": "d27f2950-3146-4010-8bc6-58c47a93e7a9",
     "typedWidgetInfo": null,
     "widgetInfo": {
      "widgetType": "dropdown",
      "defaultValue": "No",
      "label": null,
      "name": "optimize_tables",
      "options": {
       "widgetType": "dropdown",
       "autoCreated": null,
       "choices": [
        "No",
        "Yes"
       ]
      }
     }
    },
    "stop_streams": {
     "currentValue": "No",
     "nuid": "d70a2190-266e-473c-86a7-84f7bf56b386",
     "typedWidgetInfo": null,
     "widgetInfo": {
      "widgetType": "dropdown",
      "defaultValue": "No",
      "label": null,
      "name": "stop_streams",
      "options": {
       "widgetType": "dropdown",
       "autoCreated": null,
       "choices": [
        "No",
        "Yes"
       ]
      }
     }
    },
    "update_plots": {
     "currentValue": "Yes",
     "nuid": "03f15b04-50a7-4855-a9a5-af8219715f57",
     "typedWidgetInfo": null,
     "widgetInfo": {
      "widgetType": "dropdown",
      "defaultValue": "Yes",
      "label": "Update Plots",
      "name": "update_plots",
      "options": {
       "widgetType": "dropdown",
       "autoCreated": null,
       "choices": [
        "Yes",
        "No"
       ]
      }
     }
    }
   }
  }
 },
 "nbformat": 4,
 "nbformat_minor": 0
}
